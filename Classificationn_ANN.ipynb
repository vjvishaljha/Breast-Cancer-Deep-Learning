{
 "cells": [
  {
   "cell_type": "code",
   "execution_count": 1,
   "metadata": {},
   "outputs": [],
   "source": [
    "#importing the dataset\n",
    "import pandas as pd\n",
    "import numpy as np \n",
    "import matplotlib.pyplot as plt\n",
    "import seaborn as sns"
   ]
  },
  {
   "cell_type": "code",
   "execution_count": 2,
   "metadata": {},
   "outputs": [],
   "source": [
    "#loading the datset from the sklearn preadded dataset\n",
    "from sklearn.datasets import load_breast_cancer"
   ]
  },
  {
   "cell_type": "code",
   "execution_count": 3,
   "metadata": {},
   "outputs": [],
   "source": [
    "#Creating the instance of the data\n",
    "dataset=load_breast_cancer()"
   ]
  },
  {
   "cell_type": "code",
   "execution_count": 4,
   "metadata": {},
   "outputs": [
    {
     "data": {
      "text/plain": [
       "dict_keys(['data', 'target', 'target_names', 'DESCR', 'feature_names', 'filename'])"
      ]
     },
     "execution_count": 4,
     "metadata": {},
     "output_type": "execute_result"
    }
   ],
   "source": [
    "#checking the different keys of our datset\n",
    "dataset.keys()"
   ]
  },
  {
   "cell_type": "code",
   "execution_count": 5,
   "metadata": {},
   "outputs": [],
   "source": [
    "#converting the dataset into the dataframe \n",
    "data=pd.DataFrame(dataset['data'],columns=dataset['feature_names'])"
   ]
  },
  {
   "cell_type": "code",
   "execution_count": 6,
   "metadata": {},
   "outputs": [
    {
     "data": {
      "text/html": [
       "<div>\n",
       "<style scoped>\n",
       "    .dataframe tbody tr th:only-of-type {\n",
       "        vertical-align: middle;\n",
       "    }\n",
       "\n",
       "    .dataframe tbody tr th {\n",
       "        vertical-align: top;\n",
       "    }\n",
       "\n",
       "    .dataframe thead th {\n",
       "        text-align: right;\n",
       "    }\n",
       "</style>\n",
       "<table border=\"1\" class=\"dataframe\">\n",
       "  <thead>\n",
       "    <tr style=\"text-align: right;\">\n",
       "      <th></th>\n",
       "      <th>mean radius</th>\n",
       "      <th>mean texture</th>\n",
       "      <th>mean perimeter</th>\n",
       "      <th>mean area</th>\n",
       "      <th>mean smoothness</th>\n",
       "      <th>mean compactness</th>\n",
       "      <th>mean concavity</th>\n",
       "      <th>mean concave points</th>\n",
       "      <th>mean symmetry</th>\n",
       "      <th>mean fractal dimension</th>\n",
       "      <th>...</th>\n",
       "      <th>worst radius</th>\n",
       "      <th>worst texture</th>\n",
       "      <th>worst perimeter</th>\n",
       "      <th>worst area</th>\n",
       "      <th>worst smoothness</th>\n",
       "      <th>worst compactness</th>\n",
       "      <th>worst concavity</th>\n",
       "      <th>worst concave points</th>\n",
       "      <th>worst symmetry</th>\n",
       "      <th>worst fractal dimension</th>\n",
       "    </tr>\n",
       "  </thead>\n",
       "  <tbody>\n",
       "    <tr>\n",
       "      <th>0</th>\n",
       "      <td>17.99</td>\n",
       "      <td>10.38</td>\n",
       "      <td>122.80</td>\n",
       "      <td>1001.0</td>\n",
       "      <td>0.11840</td>\n",
       "      <td>0.27760</td>\n",
       "      <td>0.3001</td>\n",
       "      <td>0.14710</td>\n",
       "      <td>0.2419</td>\n",
       "      <td>0.07871</td>\n",
       "      <td>...</td>\n",
       "      <td>25.38</td>\n",
       "      <td>17.33</td>\n",
       "      <td>184.60</td>\n",
       "      <td>2019.0</td>\n",
       "      <td>0.1622</td>\n",
       "      <td>0.6656</td>\n",
       "      <td>0.7119</td>\n",
       "      <td>0.2654</td>\n",
       "      <td>0.4601</td>\n",
       "      <td>0.11890</td>\n",
       "    </tr>\n",
       "    <tr>\n",
       "      <th>1</th>\n",
       "      <td>20.57</td>\n",
       "      <td>17.77</td>\n",
       "      <td>132.90</td>\n",
       "      <td>1326.0</td>\n",
       "      <td>0.08474</td>\n",
       "      <td>0.07864</td>\n",
       "      <td>0.0869</td>\n",
       "      <td>0.07017</td>\n",
       "      <td>0.1812</td>\n",
       "      <td>0.05667</td>\n",
       "      <td>...</td>\n",
       "      <td>24.99</td>\n",
       "      <td>23.41</td>\n",
       "      <td>158.80</td>\n",
       "      <td>1956.0</td>\n",
       "      <td>0.1238</td>\n",
       "      <td>0.1866</td>\n",
       "      <td>0.2416</td>\n",
       "      <td>0.1860</td>\n",
       "      <td>0.2750</td>\n",
       "      <td>0.08902</td>\n",
       "    </tr>\n",
       "    <tr>\n",
       "      <th>2</th>\n",
       "      <td>19.69</td>\n",
       "      <td>21.25</td>\n",
       "      <td>130.00</td>\n",
       "      <td>1203.0</td>\n",
       "      <td>0.10960</td>\n",
       "      <td>0.15990</td>\n",
       "      <td>0.1974</td>\n",
       "      <td>0.12790</td>\n",
       "      <td>0.2069</td>\n",
       "      <td>0.05999</td>\n",
       "      <td>...</td>\n",
       "      <td>23.57</td>\n",
       "      <td>25.53</td>\n",
       "      <td>152.50</td>\n",
       "      <td>1709.0</td>\n",
       "      <td>0.1444</td>\n",
       "      <td>0.4245</td>\n",
       "      <td>0.4504</td>\n",
       "      <td>0.2430</td>\n",
       "      <td>0.3613</td>\n",
       "      <td>0.08758</td>\n",
       "    </tr>\n",
       "    <tr>\n",
       "      <th>3</th>\n",
       "      <td>11.42</td>\n",
       "      <td>20.38</td>\n",
       "      <td>77.58</td>\n",
       "      <td>386.1</td>\n",
       "      <td>0.14250</td>\n",
       "      <td>0.28390</td>\n",
       "      <td>0.2414</td>\n",
       "      <td>0.10520</td>\n",
       "      <td>0.2597</td>\n",
       "      <td>0.09744</td>\n",
       "      <td>...</td>\n",
       "      <td>14.91</td>\n",
       "      <td>26.50</td>\n",
       "      <td>98.87</td>\n",
       "      <td>567.7</td>\n",
       "      <td>0.2098</td>\n",
       "      <td>0.8663</td>\n",
       "      <td>0.6869</td>\n",
       "      <td>0.2575</td>\n",
       "      <td>0.6638</td>\n",
       "      <td>0.17300</td>\n",
       "    </tr>\n",
       "    <tr>\n",
       "      <th>4</th>\n",
       "      <td>20.29</td>\n",
       "      <td>14.34</td>\n",
       "      <td>135.10</td>\n",
       "      <td>1297.0</td>\n",
       "      <td>0.10030</td>\n",
       "      <td>0.13280</td>\n",
       "      <td>0.1980</td>\n",
       "      <td>0.10430</td>\n",
       "      <td>0.1809</td>\n",
       "      <td>0.05883</td>\n",
       "      <td>...</td>\n",
       "      <td>22.54</td>\n",
       "      <td>16.67</td>\n",
       "      <td>152.20</td>\n",
       "      <td>1575.0</td>\n",
       "      <td>0.1374</td>\n",
       "      <td>0.2050</td>\n",
       "      <td>0.4000</td>\n",
       "      <td>0.1625</td>\n",
       "      <td>0.2364</td>\n",
       "      <td>0.07678</td>\n",
       "    </tr>\n",
       "  </tbody>\n",
       "</table>\n",
       "<p>5 rows × 30 columns</p>\n",
       "</div>"
      ],
      "text/plain": [
       "   mean radius  mean texture  mean perimeter  mean area  mean smoothness  \\\n",
       "0        17.99         10.38          122.80     1001.0          0.11840   \n",
       "1        20.57         17.77          132.90     1326.0          0.08474   \n",
       "2        19.69         21.25          130.00     1203.0          0.10960   \n",
       "3        11.42         20.38           77.58      386.1          0.14250   \n",
       "4        20.29         14.34          135.10     1297.0          0.10030   \n",
       "\n",
       "   mean compactness  mean concavity  mean concave points  mean symmetry  \\\n",
       "0           0.27760          0.3001              0.14710         0.2419   \n",
       "1           0.07864          0.0869              0.07017         0.1812   \n",
       "2           0.15990          0.1974              0.12790         0.2069   \n",
       "3           0.28390          0.2414              0.10520         0.2597   \n",
       "4           0.13280          0.1980              0.10430         0.1809   \n",
       "\n",
       "   mean fractal dimension           ...             worst radius  \\\n",
       "0                 0.07871           ...                    25.38   \n",
       "1                 0.05667           ...                    24.99   \n",
       "2                 0.05999           ...                    23.57   \n",
       "3                 0.09744           ...                    14.91   \n",
       "4                 0.05883           ...                    22.54   \n",
       "\n",
       "   worst texture  worst perimeter  worst area  worst smoothness  \\\n",
       "0          17.33           184.60      2019.0            0.1622   \n",
       "1          23.41           158.80      1956.0            0.1238   \n",
       "2          25.53           152.50      1709.0            0.1444   \n",
       "3          26.50            98.87       567.7            0.2098   \n",
       "4          16.67           152.20      1575.0            0.1374   \n",
       "\n",
       "   worst compactness  worst concavity  worst concave points  worst symmetry  \\\n",
       "0             0.6656           0.7119                0.2654          0.4601   \n",
       "1             0.1866           0.2416                0.1860          0.2750   \n",
       "2             0.4245           0.4504                0.2430          0.3613   \n",
       "3             0.8663           0.6869                0.2575          0.6638   \n",
       "4             0.2050           0.4000                0.1625          0.2364   \n",
       "\n",
       "   worst fractal dimension  \n",
       "0                  0.11890  \n",
       "1                  0.08902  \n",
       "2                  0.08758  \n",
       "3                  0.17300  \n",
       "4                  0.07678  \n",
       "\n",
       "[5 rows x 30 columns]"
      ]
     },
     "execution_count": 6,
     "metadata": {},
     "output_type": "execute_result"
    }
   ],
   "source": [
    "data.head(5)"
   ]
  },
  {
   "cell_type": "markdown",
   "metadata": {},
   "source": [
    "EDA( Exploratory Data Analysis)"
   ]
  },
  {
   "cell_type": "code",
   "execution_count": 7,
   "metadata": {},
   "outputs": [
    {
     "data": {
      "text/plain": [
       "<matplotlib.axes._subplots.AxesSubplot at 0x1ccd7d31860>"
      ]
     },
     "execution_count": 7,
     "metadata": {},
     "output_type": "execute_result"
    },
    {
     "data": {
      "image/png": "[encoded data removed]",
      "text/plain": [
       "<Figure size 432x288 with 1 Axes>"
      ]
     },
     "metadata": {
      "needs_background": "light"
     },
     "output_type": "display_data"
    }
   ],
   "source": [
    "sns.countplot('target',data=dataset)"
   ]
  },
  {
   "cell_type": "code",
   "execution_count": 8,
   "metadata": {},
   "outputs": [
    {
     "name": "stderr",
     "output_type": "stream",
     "text": [
      "C:\\Users\\Vishal\\Anaconda3\\envs\\tensorflow_env\\lib\\site-packages\\scipy\\stats\\stats.py:1713: FutureWarning: Using a non-tuple sequence for multidimensional indexing is deprecated; use `arr[tuple(seq)]` instead of `arr[seq]`. In the future this will be interpreted as an array index, `arr[np.array(seq)]`, which will result either in an error or a different result.\n",
      "  return np.add.reduce(sorted[indexer] * weights, axis=axis) / sumval\n"
     ]
    },
    {
     "data": {
      "text/plain": [
       "<matplotlib.axes._subplots.AxesSubplot at 0x1ccd8ff14e0>"
      ]
     },
     "execution_count": 8,
     "metadata": {},
     "output_type": "execute_result"
    },
    {
     "data": {
      "image/png": "[encoded data removed]",
      "text/plain": [
       "<Figure size 432x288 with 1 Axes>"
      ]
     },
     "metadata": {
      "needs_background": "light"
     },
     "output_type": "display_data"
    }
   ],
   "source": [
    "sns.kdeplot(data['worst symmetry'])"
   ]
  },
  {
   "cell_type": "code",
   "execution_count": 9,
   "metadata": {},
   "outputs": [
    {
     "data": {
      "text/plain": [
       "<matplotlib.axes._subplots.AxesSubplot at 0x1ccd90cd550>"
      ]
     },
     "execution_count": 9,
     "metadata": {},
     "output_type": "execute_result"
    },
    {
     "data": {
      "image/png": "[encoded data removed]",
      "text/plain": [
       "<Figure size 432x288 with 1 Axes>"
      ]
     },
     "metadata": {
      "needs_background": "light"
     },
     "output_type": "display_data"
    }
   ],
   "source": [
    "sns.distplot(data['mean radius'],kde=False,bins=30)"
   ]
  },
  {
   "cell_type": "code",
   "execution_count": 10,
   "metadata": {},
   "outputs": [
    {
     "data": {
      "text/plain": [
       "<matplotlib.axes._subplots.AxesSubplot at 0x1ccd91ab630>"
      ]
     },
     "execution_count": 10,
     "metadata": {},
     "output_type": "execute_result"
    },
    {
     "data": {
      "image/png": "[encoded data removed]",
      "text/plain": [
       "<Figure size 432x288 with 1 Axes>"
      ]
     },
     "metadata": {
      "needs_background": "light"
     },
     "output_type": "display_data"
    }
   ],
   "source": [
    "sns.distplot(data['mean texture'],kde=True,bins=45,color='green')"
   ]
  },
  {
   "cell_type": "code",
   "execution_count": 11,
   "metadata": {},
   "outputs": [
    {
     "data": {
      "text/plain": [
       "<matplotlib.axes._subplots.AxesSubplot at 0x1ccd9102d68>"
      ]
     },
     "execution_count": 11,
     "metadata": {},
     "output_type": "execute_result"
    },
    {
     "data": {
      "image/png": "[encoded data removed]",
      "text/plain": [
       "<Figure size 1152x720 with 1 Axes>"
      ]
     },
     "metadata": {
      "needs_background": "light"
     },
     "output_type": "display_data"
    }
   ],
   "source": [
    "#Checking for any missing value or null value\n",
    "fig=plt.subplots(figsize=(16,10))\n",
    "sns.heatmap(data.isnull(),cbar=False,yticklabels=False,cmap='viridis')"
   ]
  },
  {
   "cell_type": "code",
   "execution_count": 12,
   "metadata": {},
   "outputs": [],
   "source": [
    "#Diving the data into x and y for training the model\n",
    "#X-Contains the features on which the model will classify the type of breast cancer\n",
    "#y-contains the original classifications\n",
    "X=data\n",
    "y=dataset['target']"
   ]
  },
  {
   "cell_type": "code",
   "execution_count": 13,
   "metadata": {},
   "outputs": [],
   "source": [
    "from sklearn.model_selection import train_test_split"
   ]
  },
  {
   "cell_type": "code",
   "execution_count": 14,
   "metadata": {},
   "outputs": [],
   "source": [
    "#Spliting the data into train and test\n",
    "X_train, X_test, y_train, y_test = train_test_split(X, y, test_size=0.33)"
   ]
  },
  {
   "cell_type": "code",
   "execution_count": 15,
   "metadata": {},
   "outputs": [],
   "source": [
    "#feature Scaling\n",
    "from sklearn.preprocessing import StandardScaler"
   ]
  },
  {
   "cell_type": "code",
   "execution_count": 16,
   "metadata": {},
   "outputs": [],
   "source": [
    "scaler=StandardScaler()"
   ]
  },
  {
   "cell_type": "code",
   "execution_count": 17,
   "metadata": {},
   "outputs": [],
   "source": [
    "X_train=scaler.fit_transform(X_train)\n",
    "X_test=scaler.transform(X_test)"
   ]
  },
  {
   "cell_type": "code",
   "execution_count": 18,
   "metadata": {},
   "outputs": [
    {
     "name": "stderr",
     "output_type": "stream",
     "text": [
      "Using TensorFlow backend.\n"
     ]
    }
   ],
   "source": [
    "from keras.models import Sequential\n",
    "from keras.layers import Dense\n",
    "from keras.layers import Dropout "
   ]
  },
  {
   "cell_type": "code",
   "execution_count": 19,
   "metadata": {},
   "outputs": [],
   "source": [
    "#Intialising the ANN Model\n",
    "model=Sequential()"
   ]
  },
  {
   "cell_type": "code",
   "execution_count": 20,
   "metadata": {},
   "outputs": [],
   "source": [
    "#Adding the first hidden layer of our ANN Model\n",
    "#units-Number of nodes we want to add in our hidden layer.\n",
    "#kernel_intializer-The function is used to intialise the weights.\n",
    "#input_dim=Number of nodes in the input layer\n",
    "#activation=The Activation Function\n",
    "#Dropout function is used to avoid overfitting \n",
    "model.add(Dense(units=15,kernel_initializer='uniform',activation='relu',input_dim=30))\n",
    "model.add(Dropout(0.2))"
   ]
  },
  {
   "cell_type": "code",
   "execution_count": 21,
   "metadata": {},
   "outputs": [],
   "source": [
    "#Adding the Second hidden layer of our ANN Model\n",
    "model.add(Dense(units=15,kernel_initializer='uniform',activation='relu'))\n",
    "model.add(Dropout(0.2))"
   ]
  },
  {
   "cell_type": "code",
   "execution_count": 22,
   "metadata": {},
   "outputs": [],
   "source": [
    "#Adding the output layer of our ANN Model\n",
    "model.add(Dense(units=1,kernel_initializer='uniform',activation='sigmoid'))"
   ]
  },
  {
   "cell_type": "code",
   "execution_count": 23,
   "metadata": {},
   "outputs": [],
   "source": [
    "#Compiling the model\n",
    "model.compile(optimizer='adam',loss='binary_crossentropy',metrics=['accuracy'])"
   ]
  },
  {
   "cell_type": "code",
   "execution_count": 24,
   "metadata": {},
   "outputs": [
    {
     "name": "stdout",
     "output_type": "stream",
     "text": [
      "Epoch 1/100\n",
      "381/381 [==============================] - 1s 1ms/step - loss: 0.6839 - acc: 0.8189\n",
      "Epoch 2/100\n",
      "381/381 [==============================] - 0s 253us/step - loss: 0.5728 - acc: 0.9344\n",
      "Epoch 3/100\n",
      "381/381 [==============================] - 0s 315us/step - loss: 0.3208 - acc: 0.9370\n",
      "Epoch 4/100\n",
      "381/381 [==============================] - 0s 236us/step - loss: 0.1704 - acc: 0.9501\n",
      "Epoch 5/100\n",
      "381/381 [==============================] - 0s 184us/step - loss: 0.1306 - acc: 0.9554\n",
      "Epoch 6/100\n",
      "381/381 [==============================] - 0s 209us/step - loss: 0.1068 - acc: 0.9764\n",
      "Epoch 7/100\n",
      "381/381 [==============================] - 0s 198us/step - loss: 0.0921 - acc: 0.9764\n",
      "Epoch 8/100\n",
      "381/381 [==============================] - 0s 213us/step - loss: 0.0874 - acc: 0.9738\n",
      "Epoch 9/100\n",
      "381/381 [==============================] - 0s 210us/step - loss: 0.0820 - acc: 0.9790\n",
      "Epoch 10/100\n",
      "381/381 [==============================] - 0s 184us/step - loss: 0.0789 - acc: 0.9790\n",
      "Epoch 11/100\n",
      "381/381 [==============================] - 0s 261us/step - loss: 0.0736 - acc: 0.9816\n",
      "Epoch 12/100\n",
      "381/381 [==============================] - 0s 264us/step - loss: 0.0726 - acc: 0.9843\n",
      "Epoch 13/100\n",
      "381/381 [==============================] - 0s 375us/step - loss: 0.0655 - acc: 0.9816\n",
      "Epoch 14/100\n",
      "381/381 [==============================] - 0s 229us/step - loss: 0.0645 - acc: 0.9816\n",
      "Epoch 15/100\n",
      "381/381 [==============================] - 0s 210us/step - loss: 0.0603 - acc: 0.9816\n",
      "Epoch 16/100\n",
      "381/381 [==============================] - 0s 209us/step - loss: 0.0702 - acc: 0.9816\n",
      "Epoch 17/100\n",
      "381/381 [==============================] - 0s 195us/step - loss: 0.0655 - acc: 0.9790\n",
      "Epoch 18/100\n",
      "381/381 [==============================] - 0s 182us/step - loss: 0.0590 - acc: 0.9869\n",
      "Epoch 19/100\n",
      "381/381 [==============================] - 0s 160us/step - loss: 0.0613 - acc: 0.9843\n",
      "Epoch 20/100\n",
      "381/381 [==============================] - 0s 236us/step - loss: 0.0654 - acc: 0.9869\n",
      "Epoch 21/100\n",
      "381/381 [==============================] - 0s 158us/step - loss: 0.0568 - acc: 0.9816\n",
      "Epoch 22/100\n",
      "381/381 [==============================] - 0s 233us/step - loss: 0.0569 - acc: 0.9869\n",
      "Epoch 23/100\n",
      "381/381 [==============================] - 0s 147us/step - loss: 0.0609 - acc: 0.9816\n",
      "Epoch 24/100\n",
      "381/381 [==============================] - 0s 157us/step - loss: 0.0521 - acc: 0.9843\n",
      "Epoch 25/100\n",
      "381/381 [==============================] - 0s 206us/step - loss: 0.0603 - acc: 0.9869\n",
      "Epoch 26/100\n",
      "381/381 [==============================] - 0s 188us/step - loss: 0.0543 - acc: 0.9869\n",
      "Epoch 27/100\n",
      "381/381 [==============================] - 0s 184us/step - loss: 0.0499 - acc: 0.9869\n",
      "Epoch 28/100\n",
      "381/381 [==============================] - 0s 272us/step - loss: 0.0590 - acc: 0.9895\n",
      "Epoch 29/100\n",
      "381/381 [==============================] - 0s 253us/step - loss: 0.0474 - acc: 0.9895\n",
      "Epoch 30/100\n",
      "381/381 [==============================] - 0s 236us/step - loss: 0.0464 - acc: 0.9895\n",
      "Epoch 31/100\n",
      "381/381 [==============================] - 0s 158us/step - loss: 0.0445 - acc: 0.9843\n",
      "Epoch 32/100\n",
      "381/381 [==============================] - 0s 221us/step - loss: 0.0504 - acc: 0.9895\n",
      "Epoch 33/100\n",
      "381/381 [==============================] - 0s 226us/step - loss: 0.0525 - acc: 0.9869\n",
      "Epoch 34/100\n",
      "381/381 [==============================] - 0s 184us/step - loss: 0.0465 - acc: 0.9895\n",
      "Epoch 35/100\n",
      "381/381 [==============================] - 0s 211us/step - loss: 0.0549 - acc: 0.9843\n",
      "Epoch 36/100\n",
      "381/381 [==============================] - 0s 315us/step - loss: 0.0522 - acc: 0.9895\n",
      "Epoch 37/100\n",
      "381/381 [==============================] - 0s 341us/step - loss: 0.0504 - acc: 0.9816 0s - loss: 0.0451 - acc: 0.98\n",
      "Epoch 38/100\n",
      "381/381 [==============================] - 0s 262us/step - loss: 0.0487 - acc: 0.9869\n",
      "Epoch 39/100\n",
      "381/381 [==============================] - 0s 210us/step - loss: 0.0464 - acc: 0.9816\n",
      "Epoch 40/100\n",
      "381/381 [==============================] - 0s 185us/step - loss: 0.0392 - acc: 0.9843\n",
      "Epoch 41/100\n",
      "381/381 [==============================] - 0s 184us/step - loss: 0.0471 - acc: 0.9843\n",
      "Epoch 42/100\n",
      "381/381 [==============================] - 0s 209us/step - loss: 0.0389 - acc: 0.9843\n",
      "Epoch 43/100\n",
      "381/381 [==============================] - 0s 184us/step - loss: 0.0397 - acc: 0.9895\n",
      "Epoch 44/100\n",
      "381/381 [==============================] - 0s 210us/step - loss: 0.0382 - acc: 0.9921\n",
      "Epoch 45/100\n",
      "381/381 [==============================] - 0s 210us/step - loss: 0.0388 - acc: 0.9921\n",
      "Epoch 46/100\n",
      "381/381 [==============================] - 0s 226us/step - loss: 0.0428 - acc: 0.9895\n",
      "Epoch 47/100\n",
      "381/381 [==============================] - 0s 245us/step - loss: 0.0388 - acc: 0.9895\n",
      "Epoch 48/100\n",
      "381/381 [==============================] - 0s 343us/step - loss: 0.0358 - acc: 0.9921\n",
      "Epoch 49/100\n",
      "381/381 [==============================] - 0s 278us/step - loss: 0.0444 - acc: 0.9869\n",
      "Epoch 50/100\n",
      "381/381 [==============================] - 0s 183us/step - loss: 0.0416 - acc: 0.9895\n",
      "Epoch 51/100\n",
      "381/381 [==============================] - 0s 184us/step - loss: 0.0396 - acc: 0.9895\n",
      "Epoch 52/100\n",
      "381/381 [==============================] - 0s 183us/step - loss: 0.0367 - acc: 0.9895\n",
      "Epoch 53/100\n",
      "381/381 [==============================] - 0s 211us/step - loss: 0.0361 - acc: 0.9921\n",
      "Epoch 54/100\n",
      "381/381 [==============================] - 0s 130us/step - loss: 0.0354 - acc: 0.9921\n",
      "Epoch 55/100\n",
      "381/381 [==============================] - 0s 104us/step - loss: 0.0427 - acc: 0.9816\n",
      "Epoch 56/100\n",
      "381/381 [==============================] - 0s 130us/step - loss: 0.0395 - acc: 0.9895\n",
      "Epoch 57/100\n",
      "381/381 [==============================] - 0s 131us/step - loss: 0.0361 - acc: 0.9921\n",
      "Epoch 58/100\n",
      "381/381 [==============================] - 0s 105us/step - loss: 0.0328 - acc: 0.9921\n",
      "Epoch 59/100\n",
      "381/381 [==============================] - 0s 105us/step - loss: 0.0384 - acc: 0.9843\n",
      "Epoch 60/100\n",
      "381/381 [==============================] - 0s 104us/step - loss: 0.0393 - acc: 0.9869\n",
      "Epoch 61/100\n",
      "381/381 [==============================] - 0s 131us/step - loss: 0.0346 - acc: 0.9895\n",
      "Epoch 62/100\n",
      "381/381 [==============================] - 0s 131us/step - loss: 0.0259 - acc: 0.9948\n",
      "Epoch 63/100\n",
      "381/381 [==============================] - 0s 131us/step - loss: 0.0361 - acc: 0.9895\n",
      "Epoch 64/100\n",
      "381/381 [==============================] - 0s 132us/step - loss: 0.0265 - acc: 0.9948\n",
      "Epoch 65/100\n",
      "381/381 [==============================] - 0s 131us/step - loss: 0.0338 - acc: 0.9895\n",
      "Epoch 66/100\n",
      "381/381 [==============================] - 0s 183us/step - loss: 0.0280 - acc: 0.9948\n",
      "Epoch 67/100\n",
      "381/381 [==============================] - 0s 184us/step - loss: 0.0241 - acc: 0.9948\n",
      "Epoch 68/100\n",
      "381/381 [==============================] - 0s 158us/step - loss: 0.0204 - acc: 0.9921\n",
      "Epoch 69/100\n",
      "381/381 [==============================] - 0s 184us/step - loss: 0.0295 - acc: 0.9895\n",
      "Epoch 70/100\n",
      "381/381 [==============================] - 0s 209us/step - loss: 0.0223 - acc: 0.9948\n",
      "Epoch 71/100\n",
      "381/381 [==============================] - 0s 158us/step - loss: 0.0270 - acc: 0.9948\n",
      "Epoch 72/100\n",
      "381/381 [==============================] - 0s 105us/step - loss: 0.0224 - acc: 0.9948\n",
      "Epoch 73/100\n",
      "381/381 [==============================] - 0s 131us/step - loss: 0.0246 - acc: 0.9895\n",
      "Epoch 74/100\n",
      "381/381 [==============================] - 0s 159us/step - loss: 0.0209 - acc: 0.9948\n",
      "Epoch 75/100\n",
      "381/381 [==============================] - 0s 183us/step - loss: 0.0267 - acc: 0.9895\n",
      "Epoch 76/100\n",
      "381/381 [==============================] - 0s 236us/step - loss: 0.0208 - acc: 0.9948\n",
      "Epoch 77/100\n",
      "381/381 [==============================] - 0s 210us/step - loss: 0.0223 - acc: 0.9948\n",
      "Epoch 78/100\n",
      "381/381 [==============================] - 0s 158us/step - loss: 0.0195 - acc: 0.9948\n",
      "Epoch 79/100\n",
      "381/381 [==============================] - 0s 156us/step - loss: 0.0201 - acc: 0.9948\n",
      "Epoch 80/100\n",
      "381/381 [==============================] - 0s 154us/step - loss: 0.0219 - acc: 0.9921\n",
      "Epoch 81/100\n",
      "381/381 [==============================] - 0s 225us/step - loss: 0.0242 - acc: 0.9895\n",
      "Epoch 82/100\n",
      "381/381 [==============================] - 0s 390us/step - loss: 0.0264 - acc: 0.9895\n",
      "Epoch 83/100\n"
     ]
    },
    {
     "name": "stdout",
     "output_type": "stream",
     "text": [
      "381/381 [==============================] - 0s 179us/step - loss: 0.0203 - acc: 0.9948\n",
      "Epoch 84/100\n",
      "381/381 [==============================] - 0s 283us/step - loss: 0.0215 - acc: 0.9895\n",
      "Epoch 85/100\n",
      "381/381 [==============================] - 0s 208us/step - loss: 0.0185 - acc: 0.9948\n",
      "Epoch 86/100\n",
      "381/381 [==============================] - 0s 239us/step - loss: 0.0196 - acc: 0.9948\n",
      "Epoch 87/100\n",
      "381/381 [==============================] - 0s 131us/step - loss: 0.0181 - acc: 0.9921\n",
      "Epoch 88/100\n",
      "381/381 [==============================] - 0s 155us/step - loss: 0.0210 - acc: 0.9948\n",
      "Epoch 89/100\n",
      "381/381 [==============================] - 0s 212us/step - loss: 0.0250 - acc: 0.9921\n",
      "Epoch 90/100\n",
      "381/381 [==============================] - 0s 236us/step - loss: 0.0130 - acc: 0.9948\n",
      "Epoch 91/100\n",
      "381/381 [==============================] - 0s 185us/step - loss: 0.0178 - acc: 0.9921\n",
      "Epoch 92/100\n",
      "381/381 [==============================] - 0s 104us/step - loss: 0.0159 - acc: 0.9921\n",
      "Epoch 93/100\n",
      "381/381 [==============================] - 0s 185us/step - loss: 0.0162 - acc: 0.9921\n",
      "Epoch 94/100\n",
      "381/381 [==============================] - 0s 235us/step - loss: 0.0266 - acc: 0.9921\n",
      "Epoch 95/100\n",
      "381/381 [==============================] - 0s 236us/step - loss: 0.0192 - acc: 0.9895\n",
      "Epoch 96/100\n",
      "381/381 [==============================] - 0s 219us/step - loss: 0.0172 - acc: 0.9948\n",
      "Epoch 97/100\n",
      "381/381 [==============================] - 0s 150us/step - loss: 0.0166 - acc: 0.9948\n",
      "Epoch 98/100\n",
      "381/381 [==============================] - 0s 261us/step - loss: 0.0142 - acc: 0.9921\n",
      "Epoch 99/100\n",
      "381/381 [==============================] - 0s 271us/step - loss: 0.0232 - acc: 0.9895\n",
      "Epoch 100/100\n",
      "381/381 [==============================] - 0s 175us/step - loss: 0.0301 - acc: 0.9895\n"
     ]
    },
    {
     "data": {
      "text/plain": [
       "<keras.callbacks.History at 0x1ccddd86e48>"
      ]
     },
     "execution_count": 24,
     "metadata": {},
     "output_type": "execute_result"
    }
   ],
   "source": [
    "#fitting the model to our dataset and specifying the number of batch_size and epochs\n",
    "model.fit(X_train,y_train,epochs=100,batch_size=10)"
   ]
  },
  {
   "cell_type": "code",
   "execution_count": 25,
   "metadata": {},
   "outputs": [],
   "source": [
    "#making prediction of our model\n",
    "prediction=model.predict(X_test)"
   ]
  },
  {
   "cell_type": "code",
   "execution_count": 26,
   "metadata": {},
   "outputs": [],
   "source": [
    "#Evaluating the performance of our model\n",
    "from sklearn.metrics import classification_report,confusion_matrix,accuracy_score"
   ]
  },
  {
   "cell_type": "code",
   "execution_count": 27,
   "metadata": {},
   "outputs": [],
   "source": [
    "prediction=(prediction>0.5)"
   ]
  },
  {
   "cell_type": "code",
   "execution_count": 28,
   "metadata": {},
   "outputs": [
    {
     "data": {
      "text/plain": [
       "array([[ 70,   3],\n",
       "       [  2, 113]], dtype=int64)"
      ]
     },
     "execution_count": 28,
     "metadata": {},
     "output_type": "execute_result"
    }
   ],
   "source": [
    "#Confusion Matrix\n",
    "confusion_matrix(y_test,prediction)"
   ]
  },
  {
   "cell_type": "code",
   "execution_count": 29,
   "metadata": {},
   "outputs": [
    {
     "name": "stdout",
     "output_type": "stream",
     "text": [
      "              precision    recall  f1-score   support\n",
      "\n",
      "           0       0.97      0.96      0.97        73\n",
      "           1       0.97      0.98      0.98       115\n",
      "\n",
      "   micro avg       0.97      0.97      0.97       188\n",
      "   macro avg       0.97      0.97      0.97       188\n",
      "weighted avg       0.97      0.97      0.97       188\n",
      "\n"
     ]
    }
   ],
   "source": [
    "#Classifiaction Report \n",
    "print(classification_report(y_test,prediction))"
   ]
  },
  {
   "cell_type": "code",
   "execution_count": 30,
   "metadata": {},
   "outputs": [
    {
     "data": {
      "text/plain": [
       "0.973404255319149"
      ]
     },
     "execution_count": 30,
     "metadata": {},
     "output_type": "execute_result"
    }
   ],
   "source": [
    "#Accuracy of our Model\n",
    "accuracy_score(y_test,prediction)"
   ]
  }
 ],
 "metadata": {
  "kernelspec": {
   "display_name": "Python 3",
   "language": "python",
   "name": "python3"
  },
  "language_info": {
   "codemirror_mode": {
    "name": "ipython",
    "version": 3
   },
   "file_extension": ".py",
   "mimetype": "text/x-python",
   "name": "python",
   "nbconvert_exporter": "python",
   "pygments_lexer": "ipython3",
   "version": "3.6.7"
  }
 },
 "nbformat": 4,
 "nbformat_minor": 2
}
